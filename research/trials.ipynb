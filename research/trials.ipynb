{
 "cells": [
  {
   "cell_type": "code",
   "execution_count": 1,
   "metadata": {},
   "outputs": [
    {
     "name": "stderr",
     "output_type": "stream",
     "text": [
      "/Users/ripeshghimire/coding/PoetryGeneration/.venv/lib/python3.9/site-packages/urllib3/__init__.py:35: NotOpenSSLWarning: urllib3 v2 only supports OpenSSL 1.1.1+, currently the 'ssl' module is compiled with 'LibreSSL 2.8.3'. See: https://github.com/urllib3/urllib3/issues/3020\n",
      "  warnings.warn(\n"
     ]
    }
   ],
   "source": [
    "import pandas as pd \n",
    "import numpy as np \n",
    "import seaborn as sns \n",
    "import matplotlib.pyplot as plt \n",
    "from sklearn.model_selection import train_test_split\n",
    "from keras.preprocessing.text import Tokenizer\n",
    "from keras.utils import pad_sequences\n",
    "from nltk.tokenize import word_tokenize\n",
    "import tensorflow as tf \n",
    "from keras.models import Sequential\n",
    "from keras.layers import Dense\n",
    "from keras.layers import Embedding,LSTM,Bidirectional,Dropout,BatchNormalization\n",
    "from keras.optimizers.legacy import Adam \n",
    "from keras.callbacks import EarlyStopping\n",
    "from keras.regularizers import l1,l2"
   ]
  },
  {
   "cell_type": "code",
   "execution_count": 2,
   "metadata": {},
   "outputs": [],
   "source": [
    "with open(\"/Users/ripeshghimire/coding/PoetryGeneration/data/poem 2.txt\",'r') as file:\n",
    "    corpus = file.readlines() "
   ]
  },
  {
   "cell_type": "markdown",
   "metadata": {},
   "source": [
    "Finding the longest element and the longest sentence in the corpus"
   ]
  },
  {
   "cell_type": "code",
   "execution_count": 3,
   "metadata": {},
   "outputs": [
    {
     "data": {
      "text/plain": [
       "81"
      ]
     },
     "execution_count": 3,
     "metadata": {},
     "output_type": "execute_result"
    }
   ],
   "source": [
    "max_len = 0\n",
    "longest_list = None\n",
    "for current_list in corpus :\n",
    "    length_word = len(current_list)\n",
    "    if length_word > max_len:\n",
    "        max_len = length_word\n",
    "        longest_list = current_list\n",
    "\n",
    "max_len"
   ]
  },
  {
   "cell_type": "markdown",
   "metadata": {},
   "source": [
    "Peforming preprocessing in the dataset "
   ]
  },
  {
   "cell_type": "code",
   "execution_count": 22,
   "metadata": {},
   "outputs": [],
   "source": [
    "def preprocess(corpus):\n",
    "#  tokenizer = Tokenizer()\n",
    "#  tokenizer.fit_on_texts(corpus)\n",
    " preprocess_corpus = []\n",
    " for sentence in corpus:\n",
    "    sentence = sentence.replace(',','')\n",
    "    tokens = word_tokenize(sentence) \n",
    "    preprocess_sent = [word.lower() for word in tokens]  \n",
    "    preprocess_corpus.append(preprocess_sent)\n",
    " return preprocess_corpus"
   ]
  },
  {
   "cell_type": "code",
   "execution_count": 23,
   "metadata": {},
   "outputs": [],
   "source": [
    "preprocess_corpus = preprocess(corpus)\n",
    "#maxlen for val data "
   ]
  },
  {
   "cell_type": "markdown",
   "metadata": {},
   "source": [
    "Splitting the data into train test "
   ]
  },
  {
   "cell_type": "code",
   "execution_count": 24,
   "metadata": {},
   "outputs": [],
   "source": [
    "train_data, temp_data = train_test_split(preprocess_corpus, train_size=0.8, random_state=10)\n",
    "test_data,val_data= train_test_split(temp_data, test_size=0.8, random_state=10)"
   ]
  },
  {
   "cell_type": "markdown",
   "metadata": {},
   "source": [
    "Encoding the data using Tokenizer and pad_sequence"
   ]
  },
  {
   "cell_type": "code",
   "execution_count": 25,
   "metadata": {},
   "outputs": [],
   "source": [
    "tokenizer = Tokenizer()\n",
    "def encode_poem(data,max_len = 81):\n",
    "    encoded_train_data = []\n",
    "    for sentences in data:\n",
    "        tokenizer.fit_on_texts([sentences])\n",
    "        sequence = tokenizer.texts_to_sequences([sentences])[0]\n",
    "        for i in range(1, len(sequence)):\n",
    "            n_gram_sequence = sequence[:i+1]\n",
    "            encoded_train_data.append(n_gram_sequence)\n",
    "    padded_encoded_train_data = pad_sequences(encoded_train_data, maxlen=max_len, padding='pre')\n",
    "    return np.array(padded_encoded_train_data)"
   ]
  },
  {
   "cell_type": "code",
   "execution_count": 26,
   "metadata": {},
   "outputs": [],
   "source": [
    "encoded_train = encode_poem(train_data)\n",
    "encoded_val = encode_poem(val_data)\n"
   ]
  },
  {
   "cell_type": "markdown",
   "metadata": {},
   "source": [
    "Defining Features and labels in the data"
   ]
  },
  {
   "cell_type": "code",
   "execution_count": 33,
   "metadata": {},
   "outputs": [],
   "source": [
    "total_words = len(tokenizer.word_index)+1\n",
    "def prepare_data(training_data,total_words =total_words):\n",
    "    xs, labels = training_data[:,:-1],training_data[:,-1]\n",
    "    ys = tf.keras.utils.to_categorical(labels, num_classes=total_words)\n",
    "    return xs,ys"
   ]
  },
  {
   "cell_type": "code",
   "execution_count": 34,
   "metadata": {},
   "outputs": [],
   "source": [
    "X_train,y_train = prepare_data(encoded_train)\n",
    "X_train_val,y_train_val = prepare_data(encoded_val)"
   ]
  },
  {
   "cell_type": "markdown",
   "metadata": {},
   "source": [
    "Training the model"
   ]
  },
  {
   "cell_type": "code",
   "execution_count": 37,
   "metadata": {},
   "outputs": [],
   "source": [
    "def create_model(learning_rate=0.001, lstm_units=100, epochs=100, batch_size=16):\n",
    "    model = Sequential()\n",
    "    model.add(Embedding(total_words, 240, input_length=max_len-1))\n",
    "    model.add(Bidirectional(LSTM(lstm_units,kernel_regularizer=l2(l2=0.01))))\n",
    "    model.add(BatchNormalization())\n",
    "    model.add(Dropout(0.4))\n",
    "    \n",
    "    model.add(Dense(total_words, activation='softmax'))\n",
    "    \n",
    "    adam = Adam(learning_rate)\n",
    "    model.compile(loss='categorical_crossentropy', optimizer=adam, metrics=['accuracy'])\n",
    "    \n",
    "    earlystop = EarlyStopping(monitor='val_loss', min_delta=0, patience=5, verbose=0, mode='auto')\n",
    "    \n",
    "    history = model.fit(X_train, y_train, epochs=epochs, verbose=1, batch_size=batch_size,\n",
    "                        callbacks=[earlystop],validation_data=(X_train_val,y_train_val))\n",
    "    \n",
    "    return model, history\n"
   ]
  },
  {
   "cell_type": "code",
   "execution_count": 38,
   "metadata": {},
   "outputs": [
    {
     "name": "stdout",
     "output_type": "stream",
     "text": [
      "Epoch 1/100\n",
      "857/857 [==============================] - 39s 44ms/step - loss: 7.1257 - accuracy: 0.0584 - val_loss: 6.8639 - val_accuracy: 0.0618\n",
      "Epoch 2/100\n",
      "857/857 [==============================] - 37s 43ms/step - loss: 6.4765 - accuracy: 0.0739 - val_loss: 8.4628 - val_accuracy: 0.0371\n",
      "Epoch 3/100\n",
      "857/857 [==============================] - 37s 44ms/step - loss: 6.3332 - accuracy: 0.0854 - val_loss: 7.3651 - val_accuracy: 0.0575\n",
      "Epoch 4/100\n",
      "857/857 [==============================] - 39s 46ms/step - loss: 6.1473 - accuracy: 0.0970 - val_loss: 7.5651 - val_accuracy: 0.0778\n",
      "Epoch 5/100\n",
      "857/857 [==============================] - 40s 46ms/step - loss: 5.9149 - accuracy: 0.1120 - val_loss: 8.6752 - val_accuracy: 0.0375\n",
      "Epoch 6/100\n",
      "857/857 [==============================] - 40s 47ms/step - loss: 5.6476 - accuracy: 0.1293 - val_loss: 9.4746 - val_accuracy: 0.0458\n"
     ]
    }
   ],
   "source": [
    "trained_model,trained_history = create_model()"
   ]
  },
  {
   "cell_type": "code",
   "execution_count": null,
   "metadata": {},
   "outputs": [],
   "source": [
    "trained_model.save('model.h5')"
   ]
  },
  {
   "cell_type": "code",
   "execution_count": null,
   "metadata": {},
   "outputs": [],
   "source": [
    "from keras.models import load_model\n",
    "model = load_model('model.h5')"
   ]
  },
  {
   "cell_type": "code",
   "execution_count": null,
   "metadata": {},
   "outputs": [
    {
     "name": "stdout",
     "output_type": "stream",
     "text": [
      "1/1 [==============================] - 0s 19ms/step\n",
      "1/1 [==============================] - 0s 14ms/step\n",
      "1/1 [==============================] - 0s 13ms/step\n",
      "1/1 [==============================] - 0s 14ms/step\n",
      "1/1 [==============================] - 0s 14ms/step\n",
      "1/1 [==============================] - 0s 14ms/step\n",
      "1/1 [==============================] - 0s 14ms/step\n",
      "1/1 [==============================] - 0s 17ms/step\n",
      "1/1 [==============================] - 0s 16ms/step\n",
      "1/1 [==============================] - 0s 17ms/step\n",
      "1/1 [==============================] - 0s 22ms/step\n",
      "1/1 [==============================] - 0s 18ms/step\n",
      "1/1 [==============================] - 0s 17ms/step\n",
      "1/1 [==============================] - 0s 18ms/step\n",
      "1/1 [==============================] - 0s 18ms/step\n",
      "1/1 [==============================] - 0s 16ms/step\n",
      "1/1 [==============================] - 0s 17ms/step\n",
      "1/1 [==============================] - 0s 18ms/step\n",
      "1/1 [==============================] - 0s 17ms/step\n",
      "1/1 [==============================] - 0s 17ms/step\n",
      "1/1 [==============================] - 0s 18ms/step\n",
      "1/1 [==============================] - 0s 18ms/step\n",
      "1/1 [==============================] - 0s 23ms/step\n",
      "1/1 [==============================] - 0s 20ms/step\n",
      "1/1 [==============================] - 0s 19ms/step\n",
      "1/1 [==============================] - 0s 20ms/step\n",
      "1/1 [==============================] - 0s 19ms/step\n",
      "1/1 [==============================] - 0s 18ms/step\n",
      "1/1 [==============================] - 0s 16ms/step\n",
      "1/1 [==============================] - 0s 18ms/step\n",
      "1/1 [==============================] - 0s 17ms/step\n",
      "1/1 [==============================] - 0s 18ms/step\n",
      "1/1 [==============================] - 0s 18ms/step\n",
      "1/1 [==============================] - 0s 17ms/step\n",
      "1/1 [==============================] - 0s 18ms/step\n",
      "1/1 [==============================] - 0s 19ms/step\n",
      "1/1 [==============================] - 0s 18ms/step\n",
      "1/1 [==============================] - 0s 19ms/step\n",
      "1/1 [==============================] - 0s 18ms/step\n",
      "1/1 [==============================] - 0s 18ms/step\n",
      "1/1 [==============================] - 0s 19ms/step\n",
      "1/1 [==============================] - 0s 19ms/step\n",
      "1/1 [==============================] - 0s 19ms/step\n",
      "1/1 [==============================] - 0s 19ms/step\n",
      "1/1 [==============================] - 0s 21ms/step\n",
      "1/1 [==============================] - 0s 21ms/step\n",
      "1/1 [==============================] - 0s 27ms/step\n",
      "1/1 [==============================] - 0s 20ms/step\n",
      "1/1 [==============================] - 0s 20ms/step\n",
      "1/1 [==============================] - 0s 19ms/step\n",
      "How are you ] take     i            bowing madan to  ?    meat       on          left      \n"
     ]
    }
   ],
   "source": []
  },
  {
   "cell_type": "code",
   "execution_count": null,
   "metadata": {},
   "outputs": [],
   "source": []
  }
 ],
 "metadata": {
  "kernelspec": {
   "display_name": "base",
   "language": "python",
   "name": "python3"
  },
  "language_info": {
   "codemirror_mode": {
    "name": "ipython",
    "version": 3
   },
   "file_extension": ".py",
   "mimetype": "text/x-python",
   "name": "python",
   "nbconvert_exporter": "python",
   "pygments_lexer": "ipython3",
   "version": "3.9.6"
  }
 },
 "nbformat": 4,
 "nbformat_minor": 2
}
